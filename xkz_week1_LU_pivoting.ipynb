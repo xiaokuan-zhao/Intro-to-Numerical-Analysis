{
 "cells": [
  {
   "cell_type": "markdown",
   "source": [
    "# I. $LU$ factorization of a square matrix"
   ],
   "metadata": {}
  },
  {
   "cell_type": "markdown",
   "source": [
    "Consider a simple naive implementation of the LU decomposition. \n",
    "\n",
    "Note that we're using the `numpy` arrays to represent matrices [do **not** use `np.matrix`]."
   ],
   "metadata": {}
  },
  {
   "cell_type": "code",
   "execution_count": 2,
   "source": [
    "import numpy as np\n",
    "\n",
    "def diy_lu(a):\n",
    "    \"\"\"Construct the LU decomposition of the input matrix.\n",
    "    \n",
    "    Naive LU decomposition: work column by column, accumulate elementary triangular matrices.\n",
    "    No pivoting.\n",
    "    \"\"\"\n",
    "    N = a.shape[0]\n",
    "    \n",
    "    u = a.copy()\n",
    "    L = np.eye(N)\n",
    "    for j in range(N-1):\n",
    "        lam = np.eye(N)\n",
    "        gamma = u[j+1:, j] / u[j, j]\n",
    "        lam[j+1:, j] = -gamma\n",
    "        u = lam @ u\n",
    "\n",
    "        lam[j+1:, j] = gamma\n",
    "        L = L @ lam\n",
    "    return L, u"
   ],
   "outputs": [],
   "metadata": {
    "collapsed": true
   }
  },
  {
   "cell_type": "code",
   "execution_count": 3,
   "source": [
    "# Now, generate a full rank matrix and test the naive implementation\n",
    "\n",
    "import numpy as np\n",
    "\n",
    "N = 6\n",
    "a = np.zeros((N, N), dtype=float)\n",
    "for i in range(N):\n",
    "    for j in range(N):\n",
    "        a[i, j] = 3. / (0.6*i*j + 1)\n",
    "\n",
    "np.linalg.matrix_rank(a)"
   ],
   "outputs": [
    {
     "output_type": "execute_result",
     "data": {
      "text/plain": [
       "6"
      ]
     },
     "metadata": {},
     "execution_count": 3
    }
   ],
   "metadata": {}
  },
  {
   "cell_type": "code",
   "execution_count": 4,
   "source": [
    "# Tweak the printing of floating-point numbers, for clarity\n",
    "np.set_printoptions(precision=3)"
   ],
   "outputs": [],
   "metadata": {
    "collapsed": true
   }
  },
  {
   "cell_type": "code",
   "execution_count": 5,
   "source": [
    "L, u = diy_lu(a)\n",
    "\n",
    "print(L, \"\\n\")\n",
    "print(u, \"\\n\")\n",
    "\n",
    "# Quick sanity check: L times U must equal the original matrix, up to floating-point errors.\n",
    "print(L@u - a)"
   ],
   "outputs": [
    {
     "output_type": "stream",
     "name": "stdout",
     "text": [
      "[[1.    0.    0.    0.    0.    0.   ]\n",
      " [1.    1.    0.    0.    0.    0.   ]\n",
      " [1.    1.455 1.    0.    0.    0.   ]\n",
      " [1.    1.714 1.742 1.    0.    0.   ]\n",
      " [1.    1.882 2.276 2.039 1.    0.   ]\n",
      " [1.    2.    2.671 2.944 2.354 1.   ]] \n",
      "\n",
      "[[ 3.000e+00  3.000e+00  3.000e+00  3.000e+00  3.000e+00  3.000e+00]\n",
      " [ 0.000e+00 -1.125e+00 -1.636e+00 -1.929e+00 -2.118e+00 -2.250e+00]\n",
      " [ 0.000e+00  0.000e+00  2.625e-01  4.574e-01  5.975e-01  7.013e-01]\n",
      " [ 0.000e+00  1.110e-16  0.000e+00 -2.197e-02 -4.480e-02 -6.469e-02]\n",
      " [ 0.000e+00 -2.819e-16  0.000e+00  0.000e+00  8.080e-04  1.902e-03]\n",
      " [ 0.000e+00  3.369e-16  0.000e+00 -1.541e-18  2.168e-19 -1.585e-05]] \n",
      "\n",
      "[[ 0.000e+00  0.000e+00  0.000e+00  0.000e+00  0.000e+00  0.000e+00]\n",
      " [ 0.000e+00  0.000e+00  0.000e+00  0.000e+00  0.000e+00  0.000e+00]\n",
      " [ 0.000e+00  0.000e+00  0.000e+00  2.220e-16 -1.110e-16 -1.665e-16]\n",
      " [ 0.000e+00  0.000e+00  2.220e-16 -5.551e-17 -1.665e-16 -1.665e-16]\n",
      " [ 0.000e+00  0.000e+00 -1.110e-16  2.776e-16 -2.776e-16  5.551e-17]\n",
      " [ 0.000e+00  0.000e+00 -1.665e-16 -1.665e-16  5.551e-17  0.000e+00]]\n"
     ]
    }
   ],
   "metadata": {}
  },
  {
   "cell_type": "markdown",
   "source": [
    "# II. The need for pivoting"
   ],
   "metadata": {}
  },
  {
   "cell_type": "markdown",
   "source": [
    "Let's tweak the matrix a little bit, we only change a single element:"
   ],
   "metadata": {}
  },
  {
   "cell_type": "code",
   "execution_count": 6,
   "source": [
    "a1 = a.copy()\n",
    "a1[1, 1] = 3"
   ],
   "outputs": [],
   "metadata": {
    "collapsed": true
   }
  },
  {
   "cell_type": "markdown",
   "source": [
    "Resulting matix still has full rank, but the naive LU routine breaks down."
   ],
   "metadata": {}
  },
  {
   "cell_type": "code",
   "execution_count": 7,
   "source": [
    "np.linalg.matrix_rank(a1)"
   ],
   "outputs": [
    {
     "output_type": "execute_result",
     "data": {
      "text/plain": [
       "6"
      ]
     },
     "metadata": {},
     "execution_count": 7
    }
   ],
   "metadata": {}
  },
  {
   "cell_type": "code",
   "execution_count": 8,
   "source": [
    "l, u = diy_lu(a1)\n",
    "\n",
    "print(l, u)"
   ],
   "outputs": [
    {
     "output_type": "stream",
     "name": "stdout",
     "text": [
      "[[nan nan nan nan nan nan]\n",
      " [nan nan nan nan nan nan]\n",
      " [nan nan nan nan nan nan]\n",
      " [nan nan nan nan nan nan]\n",
      " [nan nan nan nan nan nan]\n",
      " [nan nan nan nan nan nan]] [[nan nan nan nan nan nan]\n",
      " [nan nan nan nan nan nan]\n",
      " [nan nan nan nan nan nan]\n",
      " [nan nan nan nan nan nan]\n",
      " [nan nan nan nan nan nan]\n",
      " [nan nan nan nan nan nan]]\n"
     ]
    },
    {
     "output_type": "stream",
     "name": "stderr",
     "text": [
      "/Users/zhaoxiaokuan/anaconda3/lib/python3.7/site-packages/ipykernel_launcher.py:15: RuntimeWarning: divide by zero encountered in true_divide\n",
      "  from ipykernel import kernelapp as app\n",
      "/Users/zhaoxiaokuan/anaconda3/lib/python3.7/site-packages/ipykernel_launcher.py:15: RuntimeWarning: invalid value encountered in true_divide\n",
      "  from ipykernel import kernelapp as app\n"
     ]
    }
   ],
   "metadata": {}
  },
  {
   "cell_type": "markdown",
   "source": [
    "### Test II.1\n",
    "\n",
    "For a naive LU decomposition to work, all leading minors of a matrix should be non-zero. Check if this requirement is satisfied for the two matrices `a` and `a1`.\n",
    "\n",
    "(20% of the grade)"
   ],
   "metadata": {}
  },
  {
   "cell_type": "code",
   "execution_count": 9,
   "source": [
    "# ... ENTER YOUR CODE HERE ...\n",
    "import numpy as np\n",
    "\n",
    "def LUDecomPossible(a):\n",
    "    \"\"\"\n",
    "    check whether any leading minor is zero\n",
    "    \"\"\"\n",
    "    N = a.shape[0]\n",
    "    u = a.copy()\n",
    "    for j in range(N-1):\n",
    "        lam = np.eye(N)\n",
    "        if(u[j,j] == 0.0): \n",
    "            return ('NO')\n",
    "        gamma = u[j+1:, j] / u[j, j]\n",
    "        lam[j+1:, j] = -gamma\n",
    "        u = lam @ u\n",
    "    return ('YES')\n",
    "\n"
   ],
   "outputs": [],
   "metadata": {
    "collapsed": true
   }
  },
  {
   "cell_type": "code",
   "execution_count": 10,
   "source": [
    "print(\"Can it be LU factored?\",LUDecomPossible(a))\n",
    "print(\"Can it be LU factored?\",LUDecomPossible(a1))"
   ],
   "outputs": [
    {
     "output_type": "stream",
     "name": "stdout",
     "text": [
      "Can it be LU factored? YES\n",
      "Can it be LU factored? NO\n"
     ]
    }
   ],
   "metadata": {}
  },
  {
   "cell_type": "markdown",
   "source": [
    "### Test II.2\n",
    "\n",
    "Modify the `diy_lu` routine to implement column pivoting. Keep track of pivots, you can either construct a permutation matrix, or a swap array (your choice).\n",
    "\n",
    "(40% of the grade)\n",
    "\n",
    "Implement a function to reconstruct the original matrix from a decompositon. Test your routines on the matrices `a` and `a1`.\n",
    "\n",
    "(40% of the grade)"
   ],
   "metadata": {}
  },
  {
   "cell_type": "code",
   "execution_count": null,
   "source": [
    "# ... ENTER YOUR CODE HERE ..."
   ],
   "outputs": [],
   "metadata": {
    "collapsed": true
   }
  },
  {
   "cell_type": "code",
   "execution_count": 11,
   "source": [
    "def diy_lu(a):\n",
    "    \"\"\"\n",
    "    This is to construct the PLU decomposition of the input matrix.\n",
    "    \n",
    "    \n",
    "    \"\"\"\n",
    "    N = a.shape[0]\n",
    "    \n",
    "    u = a.copy()\n",
    "    L = np.eye(N)\n",
    "    P = np.eye(N)\n",
    "    for j in range(N-1):\n",
    "        lam = np.eye(N)\n",
    "        row = j\n",
    "        for rows in range(j+1,N):\n",
    "            if abs(u[rows,j]) > abs(u[row,j]):\n",
    "                row = rows\n",
    "        u[[row,j]],u[[j,row]] = u[[j,row]],u[[row,j]]\n",
    "        L[:,row],L[:,j] = L[:,j],L[:,row].copy()\n",
    "        P[[row,j]],P[[j,row]] = P[[j,row]],P[[row,j]]\n",
    "        L[[row,j]],L[[j,row]] = L[[j,row]],L[[row,j]]\n",
    "        gamma = u[j+1:, j] / u[j, j]\n",
    "        lam[j+1:, j] = -gamma\n",
    "        u = lam @ u\n",
    "        \n",
    "        lam[j+1:, j] = gamma\n",
    "        L = L @ lam\n",
    "    return P,L,u"
   ],
   "outputs": [],
   "metadata": {}
  },
  {
   "cell_type": "code",
   "execution_count": 12,
   "source": [
    "P,L,U = diy_lu(a1)\n",
    "print(\"checking if PA = LU\")\n",
    "print(\"this is PA: \\n\",P @ a1,\"\\n\")\n",
    "print(\"this is LU: \\n\",L @ U,\"\\n\")\n",
    "print(\"checking if A = P⁻1LU\")\n",
    "print(\"this is A: \\n\",a1)\n",
    "P = np.transpose(P)\n",
    "print(\"this is (P⁻1)LU: \\n\",P @ L @ U)"
   ],
   "outputs": [
    {
     "output_type": "stream",
     "name": "stdout",
     "text": [
      "checking PA = LU\n",
      "this is PA\n",
      " [[3.    3.    3.    3.    3.    3.   ]\n",
      " [3.    0.75  0.429 0.3   0.231 0.188]\n",
      " [3.    3.    1.364 1.071 0.882 0.75 ]\n",
      " [3.    1.364 0.882 0.652 0.517 0.429]\n",
      " [3.    1.071 0.652 0.469 0.366 0.3  ]\n",
      " [3.    0.882 0.517 0.366 0.283 0.231]] \n",
      "\n",
      "this is LU\n",
      " [[3.    3.    3.    3.    3.    3.   ]\n",
      " [3.    0.75  0.429 0.3   0.231 0.188]\n",
      " [3.    3.    1.364 1.071 0.882 0.75 ]\n",
      " [3.    1.364 0.882 0.652 0.517 0.429]\n",
      " [3.    1.071 0.652 0.469 0.366 0.3  ]\n",
      " [3.    0.882 0.517 0.366 0.283 0.231]] \n",
      "\n",
      "checking A = P⁻1LU\n",
      "this is A\n",
      " [[3.    3.    3.    3.    3.    3.   ]\n",
      " [3.    3.    1.364 1.071 0.882 0.75 ]\n",
      " [3.    1.364 0.882 0.652 0.517 0.429]\n",
      " [3.    1.071 0.652 0.469 0.366 0.3  ]\n",
      " [3.    0.882 0.517 0.366 0.283 0.231]\n",
      " [3.    0.75  0.429 0.3   0.231 0.188]]\n",
      "this is (P⁻1)LU\n",
      " [[3.    3.    3.    3.    3.    3.   ]\n",
      " [3.    3.    1.364 1.071 0.882 0.75 ]\n",
      " [3.    1.364 0.882 0.652 0.517 0.429]\n",
      " [3.    1.071 0.652 0.469 0.366 0.3  ]\n",
      " [3.    0.882 0.517 0.366 0.283 0.231]\n",
      " [3.    0.75  0.429 0.3   0.231 0.188]]\n"
     ]
    }
   ],
   "metadata": {}
  }
 ],
 "metadata": {
  "kernelspec": {
   "name": "python3",
   "display_name": "Python 3.7.2 64-bit ('base': conda)"
  },
  "language_info": {
   "codemirror_mode": {
    "name": "ipython",
    "version": 3
   },
   "file_extension": ".py",
   "mimetype": "text/x-python",
   "name": "python",
   "nbconvert_exporter": "python",
   "pygments_lexer": "ipython3",
   "version": "3.7.2"
  },
  "interpreter": {
   "hash": "b561cbec2c52bc5a183d3e0836c172ccc739a262ce0a52819e2e0bb2f1a1f1d9"
  }
 },
 "nbformat": 4,
 "nbformat_minor": 2
}