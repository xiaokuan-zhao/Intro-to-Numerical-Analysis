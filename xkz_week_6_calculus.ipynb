{
 "cells": [
  {
   "cell_type": "markdown",
   "source": [
    "# Part I. One-sided finite differences"
   ],
   "metadata": {}
  },
  {
   "cell_type": "markdown",
   "source": [
    "Write a function, `deriv`, which computes a derivative of its argument at a given point, $x$, using a one-sided finite difference rule with a given step side $h$, with the approximation order of $O(h^2)$. "
   ],
   "metadata": {}
  },
  {
   "cell_type": "code",
   "execution_count": 4,
   "source": [
    "def deriv(f, x, h):\n",
    "    \"\"\" Compute a derivative of `f` at point `x` with step size `h`.\n",
    "    \n",
    "    Compute the derivative using the one-sided rule of the approximation order of $O(h^2)$.\n",
    "    \n",
    "    Parameters\n",
    "    ----------\n",
    "    f : callable\n",
    "        The function to differentiate\n",
    "    x : float\n",
    "        The point to compute the derivative at.\n",
    "    h : float\n",
    "        The step size for the finite different rule.\n",
    "        \n",
    "    Returns\n",
    "    -------\n",
    "    fder : derivative of f(x) at point x using the step size h.\n",
    "    \"\"\"\n",
    "    # ... ENTER YOUR CODE HERE ...\n",
    "    return (f(x+h)-f(x))/h"
   ],
   "outputs": [],
   "metadata": {
    "collapsed": true
   }
  },
  {
   "cell_type": "markdown",
   "source": [
    "#### Test I.1\n",
    "\n",
    "Test your function on a simple test case: differentiate $f(x) = x^3$ at $x=0$. Comment on whether your results are consistent with the expected value of $f'(x) = 0$ and on an expected scaling with $h\\to 0$.\n",
    "\n",
    " (10% of the total grade)"
   ],
   "metadata": {}
  },
  {
   "cell_type": "code",
   "execution_count": 5,
   "source": [
    "x = 0\n",
    "for h in [1e-2, 1e-3, 1e-4, 1e-5]:\n",
    "    err = deriv(lambda x: x**3, x, h)\n",
    "    print(\"%5f -- %7.4g\" % (h, err))"
   ],
   "outputs": [
    {
     "output_type": "stream",
     "name": "stdout",
     "text": [
      "0.010000 --  0.0001\n",
      "0.001000 --   1e-06\n",
      "0.000100 --   1e-08\n",
      "0.000010 --   1e-10\n"
     ]
    }
   ],
   "metadata": {}
  },
  {
   "cell_type": "markdown",
   "source": [
    " ... ENTER YOUR COMMENTS HERE ..."
   ],
   "metadata": {}
  },
  {
   "cell_type": "markdown",
   "source": [
    "### Test I.2\n",
    "\n",
    "Now use a slightly more complicated function, $f(x) = x^2 \\log{x}$, evaluate the derivative at $x=1$ using your one-sided rule and a two-point one-sided rule. Roughly estimate the value of $h$ where the error stops decreasing, for these two schemes. \n",
    "(15% of the total grade)"
   ],
   "metadata": {}
  },
  {
   "cell_type": "code",
   "execution_count": 6,
   "source": [
    "from math import log\n",
    "\n",
    "def f(x):\n",
    "    return x**2 * log(x)\n",
    "    \n",
    "def fder(x):\n",
    "    return x * (2.*log(x) + 1)"
   ],
   "outputs": [],
   "metadata": {
    "collapsed": true
   }
  },
  {
   "cell_type": "code",
   "execution_count": 7,
   "source": [
    "# ... ENTER YOUR CODE HERE ...\n",
    "import numpy as np\n",
    "import matplotlib.pyplot as plt\n",
    "print(\"one side\")\n",
    "x = 1\n",
    "for h in [1e-2, 1e-3, 1e-4, 1e-5]:\n",
    "    err = deriv(f, x, h)-fder(x)\n",
    "    print(\"%5f -- %7.4g\" % (h, err))\n",
    "\n",
    "xv=np.linspace(0.5,2,100)\n",
    "yv=[f(_) for _ in xv]\n",
    "yderv=[fder(_) for _ in xv]\n",
    "plt.plot(xv,yv,label='f')\n",
    "plt.plot(xv,yderv,label='fder')\n",
    "plt.legend()\n",
    "\n"
   ],
   "outputs": [
    {
     "output_type": "stream",
     "name": "stdout",
     "text": [
      "one side\n",
      "0.010000 -- 0.01503\n",
      "0.001000 --  0.0015\n",
      "0.000100 -- 0.00015\n",
      "0.000010 -- 1.5e-05\n"
     ]
    },
    {
     "output_type": "execute_result",
     "data": {
      "text/plain": [
       "<matplotlib.legend.Legend at 0x7f9bb43d2d30>"
      ]
     },
     "metadata": {},
     "execution_count": 7
    },
    {
     "output_type": "display_data",
     "data": {
      "image/png": "[encoded data removed]",
      "text/plain": [
       "<Figure size 432x288 with 1 Axes>"
      ]
     },
     "metadata": {
      "needs_background": "light"
     }
    }
   ],
   "metadata": {}
  },
  {
   "cell_type": "markdown",
   "source": [
    "### Test I.3 \n",
    "\n",
    "Now try differentiating $x^2 \\log(x)$ at $x=0$. Use the three-point one-sided rule. Note that to evaluate the function at zero, you need to special-case this value. Check the scaling of the error with $h$, explain your results. \n",
    "(25% of the total grade)"
   ],
   "metadata": {}
  },
  {
   "cell_type": "code",
   "execution_count": 8,
   "source": [
    "def deriv2points(f,x,h):\n",
    "    return (f(x+h)-f(x-h))/(2*h)\n",
    "\n",
    "print(\"two points\")\n",
    "x = 1\n",
    "for h in [1e-2, 1e-3, 1e-4, 1e-5]:\n",
    "    err = deriv2points(f, x, h)-fder(x)\n",
    "    print(\"%5f -- %7.4g\" % (h, err))\n",
    "\n",
    "def f(x):\n",
    "    if x == 0:\n",
    "        # the limit of $x^2 log(x)$ at $x-> 0$ is zero, even though log(x) is undefined at x=0\n",
    "        return 0.0\n",
    "    else:\n",
    "        return x**2 * log(x)\n",
    "    \n",
    "def fder(x):\n",
    "    if x == 0:\n",
    "        return 0.0\n",
    "    else:\n",
    "        return x*(2*log(x) + 1)\n",
    "\n",
    "x = 0\n",
    "for h in [1e-2, 1e-3, 1e-4, 1e-5]:\n",
    "    err = deriv(f, x, h) - fder(x)\n",
    "    print(\"%5f -- %7.4g\" % (h, err))\n",
    "\n",
    "def deriv3point(f,x,h):\n",
    "    return (-3/2*f(x)+2*f(x+h)-1/2*f(x+2*h))/h\n",
    "print(\"three point\")\n",
    "x = 0\n",
    "for h in [1e-2, 1e-3, 1e-4, 1e-5]:\n",
    "    err = deriv3point(f, x, h) - fder(x)\n",
    "    print(\"%5f -- %7.4g\" % (h, err))"
   ],
   "outputs": [
    {
     "output_type": "stream",
     "name": "stdout",
     "text": [
      "two points\n",
      "0.010000 -- 3.333e-05\n",
      "0.001000 -- 3.333e-07\n",
      "0.000100 -- 3.333e-09\n",
      "0.000010 -- 3.433e-11\n",
      "0.010000 -- -0.04605\n",
      "0.001000 -- -0.006908\n",
      "0.000100 -- -0.000921\n",
      "0.000010 -- -0.0001151\n",
      "three point\n",
      "0.010000 -- -0.01386\n",
      "0.001000 -- -0.001386\n",
      "0.000100 -- -0.0001386\n",
      "0.000010 -- -1.386e-05\n"
     ]
    }
   ],
   "metadata": {}
  },
  {
   "cell_type": "markdown",
   "source": [
    "... ENTER YOUR EXPLANATION HERE ..."
   ],
   "metadata": {}
  },
  {
   "cell_type": "markdown",
   "source": [
    "# Part II. Midpoint rule "
   ],
   "metadata": {}
  },
  {
   "cell_type": "markdown",
   "source": [
    "Write a function which computes a definite integral using the midpoint rule up to a given error, $\\epsilon$. Estimate the error by comparing the estimates of the integral at $N$ and $2N$ elementary intervals. "
   ],
   "metadata": {}
  },
  {
   "cell_type": "code",
   "execution_count": 9,
   "source": [
    "def midpoint_rule(func, a, b, eps):\n",
    "    \"\"\" Calculate the integral of f from a to b using the midpoint rule.\n",
    "    \n",
    "    Parameters\n",
    "    ----------\n",
    "    func : callable\n",
    "        The function to integrate.\n",
    "    a : float\n",
    "        The lower limit of integration.\n",
    "    b : float\n",
    "        The upper limit of integration.\n",
    "    eps : float\n",
    "        The target accuracy of the estimate.\n",
    "        \n",
    "    Returns\n",
    "    -------\n",
    "    integral : float\n",
    "        The estimate of $\\int_a^b f(x) dx$.\n",
    "    \"\"\"\n",
    "    # ... ENTER YOUR CODE HERE ...\n",
    "    N=2\n",
    "    lastv=np.finfo(float).max\n",
    "    \n",
    "    while True:\n",
    "        print(N)\n",
    "        xv=np.linspace(a,b,N+1)\n",
    "        h=(b-a)/N\n",
    "        s=0\n",
    "        for i in range(N):\n",
    "            x=xv[i]\n",
    "            midp=x+h/2\n",
    "            #print(midp)\n",
    "            Qk=h*func(midp)\n",
    "            s+=Qk\n",
    "        if abs(lastv-s)<eps:\n",
    "            break\n",
    "        print(abs(lastv-s))\n",
    "        # prepare the next loop\n",
    "        lastv=s\n",
    "        N=2*N\n",
    "    return lastv,N\n",
    "\n",
    "lastv,N=midpoint_rule(lambda x: x**3 , 0, 1, 1e-5)\n",
    "print(lastv)\n",
    "print(N)"
   ],
   "outputs": [
    {
     "output_type": "stream",
     "name": "stdout",
     "text": [
      "2\n",
      "1.7976931348623157e+308\n",
      "4\n",
      "0.0234375\n",
      "8\n",
      "0.005859375\n",
      "16\n",
      "0.00146484375\n",
      "32\n",
      "0.0003662109375\n",
      "64\n",
      "9.1552734375e-05\n",
      "128\n",
      "2.288818359375e-05\n",
      "256\n",
      "0.24999237060546875\n",
      "256\n"
     ]
    }
   ],
   "metadata": {
    "collapsed": true
   }
  },
  {
   "cell_type": "markdown",
   "source": [
    "### Test II.1\n",
    "\n",
    "Test your midpoint rule on a simple integral, which you can calculate by paper and pencil.\n",
    "\n",
    "Compare the rate of convergence to the expected $O(N^{-2})$ scaling by studying the number of intervals required for a given accuracy $\\epsilon$.\n",
    "\n",
    "Compare the numerical results to the value you calculated by hand. Does the deviation agree with your estimate of the numerical error?\n",
    "(20% of the total grade)\n"
   ],
   "metadata": {}
  },
  {
   "cell_type": "markdown",
   "source": [
    "... ENTER YOUR CODE AND COMMENTS HERE ..."
   ],
   "metadata": {}
  },
  {
   "cell_type": "markdown",
   "source": [
    "### Test II.2\n",
    "\n",
    "Now use your midpoint rule to compute the value of\n",
    "\n",
    "$$\n",
    "\\int_0^1\\! \\frac{\\sin{\\sqrt{x}}}{x}\\, dx\n",
    "$$\n",
    "\n",
    "up to a predefined accuracy of $\\epsilon=10^{-4}$.\n",
    "\n",
    "Note that the integral contains an integrable singularity at the lower limit. Do calculations two ways: first, do a straightforward computation; next, subtract the singularity. Compare the number of iterations required to achieve the accuracy of $\\epsilon$.\n",
    "\n",
    "(30% of the total grade)"
   ],
   "metadata": {}
  },
  {
   "cell_type": "code",
   "execution_count": 10,
   "source": [
    "# ... ENTER YOUR CODE HERE ...\n",
    "def f(x):\n",
    "    return np.sin(np.sqrt(x))/x\n",
    "lastv,N=midpoint_rule(f, 0, 1, 1e-4)\n",
    "print(lastv)\n",
    "\n",
    "\n",
    "\n",
    "def f_sub_sing(x):\n",
    "    # sub the singular  1/np.sqrt(x)\n",
    "    return np.sin(np.sqrt(x))/x - 1/np.sqrt(x)\n",
    "lastv,N=midpoint_rule(f_sub_sing, 0, 1, 1e-4)\n",
    "# 2 is the result of singular integral of 1/np.sqrt(x)\n",
    "print(lastv+2)"
   ],
   "outputs": [
    {
     "output_type": "stream",
     "name": "stdout",
     "text": [
      "2\n",
      "1.7976931348623157e+308\n",
      "4\n",
      "0.12324036676734296\n",
      "8\n",
      "0.08829439704432818\n",
      "16\n",
      "0.06265017401147421\n",
      "32\n",
      "0.04432536270351983\n",
      "64\n",
      "0.031338440312389304\n",
      "128\n",
      "0.022154789570421052\n",
      "256\n",
      "0.015663266099519513\n",
      "512\n",
      "0.011074498495650786\n",
      "1024\n",
      "0.007830411315079555\n",
      "2048\n",
      "0.005536767881334281\n",
      "4096\n",
      "0.003915023117753824\n",
      "8192\n",
      "0.002768316315973518\n",
      "16384\n",
      "0.0019574868782834542\n",
      "32768\n",
      "0.0013841492392243637\n",
      "65536\n",
      "0.0009787402376089105\n",
      "131072\n",
      "0.0006920734756408198\n",
      "262144\n",
      "0.0004893697113108608\n",
      "524288\n",
      "0.00034603659304921486\n",
      "1048576\n",
      "0.00024468480437733753\n",
      "2097152\n"
     ]
    }
   ],
   "metadata": {
    "collapsed": true
   }
  },
  {
   "cell_type": "code",
   "execution_count": null,
   "source": [],
   "outputs": [],
   "metadata": {
    "collapsed": true
   }
  }
 ],
 "metadata": {
  "kernelspec": {
   "name": "python3",
   "display_name": "Python 3.7.2 64-bit ('base': conda)"
  },
  "language_info": {
   "codemirror_mode": {
    "name": "ipython",
    "version": 3
   },
   "file_extension": ".py",
   "mimetype": "text/x-python",
   "name": "python",
   "nbconvert_exporter": "python",
   "pygments_lexer": "ipython3",
   "version": "3.7.2"
  },
  "interpreter": {
   "hash": "b561cbec2c52bc5a183d3e0836c172ccc739a262ce0a52819e2e0bb2f1a1f1d9"
  }
 },
 "nbformat": 4,
 "nbformat_minor": 2
}