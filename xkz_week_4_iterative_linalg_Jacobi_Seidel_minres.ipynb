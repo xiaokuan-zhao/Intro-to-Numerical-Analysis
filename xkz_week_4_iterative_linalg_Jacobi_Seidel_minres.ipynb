{
 "cells": [
  {
   "cell_type": "markdown",
   "source": [
    "# Simple iteration for systems of linear equations"
   ],
   "metadata": {}
  },
  {
   "cell_type": "markdown",
   "source": [
    "First, generate a random diagonally dominant matrix, for testing."
   ],
   "metadata": {}
  },
  {
   "cell_type": "code",
   "execution_count": 1,
   "source": [
    "import numpy as np\n",
    "rndm = np.random.RandomState(1234)\n",
    "\n",
    "n = 10\n",
    "A = rndm.uniform(size=(n, n)) + np.diagflat([15]*n)\n",
    "b = rndm.uniform(size=n)"
   ],
   "outputs": [],
   "metadata": {
    "collapsed": true
   }
  },
  {
   "cell_type": "markdown",
   "source": [
    "# I.  Jacobi iteration\n",
    "\n",
    "Given\n",
    "\n",
    "$$\n",
    "A x = b\n",
    "$$\n",
    "\n",
    "separate the diagonal part $D$,\n",
    "\n",
    "$$ A = D + (A - D) $$\n",
    "\n",
    "and write\n",
    "\n",
    "$$\n",
    "x = D^{-1} (D - A) x + D^{-1} b\\;.\n",
    "$$\n",
    "\n",
    "Then iterate\n",
    "\n",
    "$$\n",
    "x_{n + 1} = B x_{n} + c\\;,\n",
    "$$\n",
    "\n",
    "where \n",
    "\n",
    "$$\n",
    "B = D^{-1} (A - D) \\qquad \\text{and} \\qquad c = D^{-1} b\n",
    "$$\n"
   ],
   "metadata": {}
  },
  {
   "cell_type": "markdown",
   "source": [
    "Let's construct the matrix and the r.h.s. for the Jacobi iteration"
   ],
   "metadata": {}
  },
  {
   "cell_type": "code",
   "execution_count": 2,
   "source": [
    "diag_1d = np.diag(A)\n",
    "\n",
    "B = -A.copy()\n",
    "np.fill_diagonal(B, 0)\n",
    "\n",
    "D = np.diag(diag_1d)\n",
    "invD = np.diag(1./diag_1d)\n",
    "BB = invD @ B \n",
    "c = invD @ b"
   ],
   "outputs": [],
   "metadata": {}
  },
  {
   "cell_type": "code",
   "execution_count": 3,
   "source": [
    "# sanity checks\n",
    "from numpy.testing import assert_allclose\n",
    "\n",
    "assert_allclose(-B + D, A)\n",
    "\n",
    "\n",
    "# xx is a \"ground truth\" solution, compute it using a direct method\n",
    "xx = np.linalg.solve(A, b)\n",
    "\n",
    "np.testing.assert_allclose(A@xx, b)\n",
    "np.testing.assert_allclose(D@xx, B@xx + b)\n",
    "np.testing.assert_allclose(xx, BB@xx + c)"
   ],
   "outputs": [],
   "metadata": {}
  },
  {
   "cell_type": "markdown",
   "source": [
    "Check that $\\| B\\| \\leqslant 1$:"
   ],
   "metadata": {}
  },
  {
   "cell_type": "code",
   "execution_count": 4,
   "source": [
    "np.linalg.norm(BB)"
   ],
   "outputs": [
    {
     "output_type": "execute_result",
     "data": {
      "text/plain": [
       "0.36436161983015336"
      ]
     },
     "metadata": {},
     "execution_count": 4
    }
   ],
   "metadata": {}
  },
  {
   "cell_type": "markdown",
   "source": [
    "### Do the Jacobi iteration"
   ],
   "metadata": {}
  },
  {
   "cell_type": "code",
   "execution_count": 5,
   "source": [
    "n_iter = 50\n",
    "\n",
    "x0 = np.ones(n)\n",
    "x = x0\n",
    "for _ in range(n_iter):\n",
    "    x = BB @ x + c"
   ],
   "outputs": [],
   "metadata": {
    "collapsed": true
   }
  },
  {
   "cell_type": "code",
   "execution_count": 6,
   "source": [
    "# Check the result:\n",
    "\n",
    "A @ x - b"
   ],
   "outputs": [
    {
     "output_type": "execute_result",
     "data": {
      "text/plain": [
       "array([  1.11022302e-16,   1.11022302e-16,  -1.11022302e-16,\n",
       "         0.00000000e+00,   0.00000000e+00,   0.00000000e+00,\n",
       "        -1.38777878e-17,   0.00000000e+00,   2.77555756e-17,\n",
       "         1.11022302e-16])"
      ]
     },
     "metadata": {},
     "execution_count": 6
    }
   ],
   "metadata": {}
  },
  {
   "cell_type": "markdown",
   "source": [
    "### Task I.1\n",
    "\n",
    "Collect the proof-of-concept above into a single function implementing the Jacobi iteration. This function should receive the r.h.s. matrix $A$, the l.h.s. vector `b`, and the number of iterations to perform.\n",
    "\n",
    "\n",
    "The matrix $A$ in the illustration above is strongly diagonally dominant, by construction. \n",
    "What happens if the diagonal matrix elements of $A$ are made smaller? Check the convergence of the Jacobi iteration, and check the value of the norm of $B$.\n",
    "\n",
    "(20% of the total grade)\n"
   ],
   "metadata": {}
  },
  {
   "cell_type": "code",
   "execution_count": null,
   "source": [
    "# ... ENTER YOUR CODE HERE ...\n",
    "def jacobi(A,b,maxiter):\n",
    "    # for 2D matrix, return its diagonal\n",
    "    diag_1d = np.diag(A)\n",
    "    B = -A.copy()\n",
    "    # fill diagonal with all zero\n",
    "    np.fill_diagonal(B, 0)\n",
    "    \n",
    "    # for a vector, fill it on a matrix diagonal\n",
    "    D = np.diag(diag_1d)\n",
    "\n",
    "    # for a diagonal matrix, its inv is just inverting all elements on diagonal\n",
    "    invD = np.diag(1./diag_1d)\n",
    "    BB = invD @ B \n",
    "    c = invD @ b\n",
    "\n",
    "    x0 = np.ones(n)\n",
    "    x = x0\n",
    "    for _ in range(maxiter):\n",
    "        x = BB @ x + c\n",
    "    return x\n",
    "\n",
    "x15=[]\n",
    "A = rndm.uniform(size=(n, n)) + np.diagflat([15]*n)\n",
    "for i in range(50):\n",
    "    x=jacobi(A,b,i)\n",
    "    x15.append(np.linalg.norm(A@x-b))\n",
    "\n",
    "x10=[]\n",
    "A = rndm.uniform(size=(n, n)) + np.diagflat([10]*n)\n",
    "for i in range(50):\n",
    "    x=jacobi(A,b,i)\n",
    "    x10.append(np.linalg.norm(A@x-b))\n",
    "\n",
    "x5=[]\n",
    "A = rndm.uniform(size=(n, n)) + np.diagflat([5]*n)\n",
    "for i in range(50):\n",
    "    x=jacobi(A,b,i)\n",
    "    x5.append(np.linalg.norm(A@x-b))"
   ],
   "outputs": [],
   "metadata": {
    "collapsed": true
   }
  },
  {
   "cell_type": "markdown",
   "source": [
    "# II. Seidel's iteration."
   ],
   "metadata": {}
  },
  {
   "cell_type": "markdown",
   "source": [
    "##### Task II.1\n",
    "\n",
    "Implement the Seidel's iteration. \n",
    "\n",
    "Test it on a random matrix. Study the convergence of iterations, relate to the norm of the iteration matrix.\n",
    "\n",
    "(30% of the total grade)"
   ],
   "metadata": {}
  },
  {
   "cell_type": "code",
   "execution_count": null,
   "source": [
    "# ... ENTER YOUR CODE HERE ...\n",
    "\n",
    "def seidel(A,b,maxiter):\n",
    "    # for 2D matrix, return its diagonal\n",
    "    # construct Upper matrix\n",
    "    U=np.triu(A)\n",
    "    np.fill_diagonal(U, 0)\n",
    "    \n",
    "    # construct D\n",
    "    diag_1d = np.diag(A)\n",
    "    # for a vector, fill it on a matrix diagonal\n",
    "    D = np.diag(diag_1d)\n",
    "    \n",
    "    # construct L\n",
    "    L=np.tril(A)\n",
    "    \n",
    "    DL=L\n",
    "    DL_n1=np.linalg.inv(DL)\n",
    "\n",
    "    x0 = np.ones(n)\n",
    "    x = x0\n",
    "    for _ in range(maxiter):\n",
    "        x = DL_n1@(b-U@x)\n",
    "    return x\n",
    "\n"
   ],
   "outputs": [],
   "metadata": {
    "collapsed": true
   }
  },
  {
   "cell_type": "markdown",
   "source": [
    "# III. Minimum residual scheme"
   ],
   "metadata": {}
  },
  {
   "cell_type": "markdown",
   "source": [
    "### Task III.1\n",
    "\n",
    "Implement the $\\textit{minimum residual}$ scheme: an explicit non-stationary method, where at each step you select the iteration parameter $\\tau_n$ to minimize the residual $\\mathbf{r}_{n+1}$ given $\\mathbf{r}_n$. Test it on a random matrix, study the convergence to the solution, in terms of the norm of the residual and the deviation from the ground truth solution (which you can obtain using a direct method). Study how the iteration parameter $\\tau_n$ changes as iterations progress.\n",
    "\n",
    "(50% of the grade)"
   ],
   "metadata": {}
  },
  {
   "cell_type": "code",
   "execution_count": null,
   "source": [
    "# ... ENTER YOUR CODE HERE ...\n",
    "def mrs(A,b,maxiter):\n",
    "    x0 = np.ones(n)\n",
    "    x = x0\n",
    "    for _ in range(maxiter):\n",
    "        r=A@x-b\n",
    "        tau=r@(A@r)/np.linalg.norm(A@r)\n",
    "        x=x-tau*r\n",
    "    return x\n",
    "\n",
    "\n"
   ],
   "outputs": [],
   "metadata": {
    "collapsed": true
   }
  }
 ],
 "metadata": {
  "kernelspec": {
   "name": "python3",
   "display_name": "Python 3.7.2 64-bit ('base': conda)"
  },
  "language_info": {
   "codemirror_mode": {
    "name": "ipython",
    "version": 3
   },
   "file_extension": ".py",
   "mimetype": "text/x-python",
   "name": "python",
   "nbconvert_exporter": "python",
   "pygments_lexer": "ipython3",
   "version": "3.7.2"
  },
  "interpreter": {
   "hash": "b561cbec2c52bc5a183d3e0836c172ccc739a262ce0a52819e2e0bb2f1a1f1d9"
  }
 },
 "nbformat": 4,
 "nbformat_minor": 2
}